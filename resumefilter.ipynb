{
 "cells": [
  {
   "cell_type": "code",
   "execution_count": 1,
   "metadata": {},
   "outputs": [],
   "source": [
    "import pandas as pd\n",
    "import openpyxl\n",
    "import numpy as np"
   ]
  },
  {
   "cell_type": "code",
   "execution_count": 2,
   "metadata": {},
   "outputs": [
    {
     "data": {
      "text/html": [
       "<div>\n",
       "<style scoped>\n",
       "    .dataframe tbody tr th:only-of-type {\n",
       "        vertical-align: middle;\n",
       "    }\n",
       "\n",
       "    .dataframe tbody tr th {\n",
       "        vertical-align: top;\n",
       "    }\n",
       "\n",
       "    .dataframe thead th {\n",
       "        text-align: right;\n",
       "    }\n",
       "</style>\n",
       "<table border=\"1\" class=\"dataframe\">\n",
       "  <thead>\n",
       "    <tr style=\"text-align: right;\">\n",
       "      <th></th>\n",
       "      <th>Name</th>\n",
       "      <th>Python (out of 3)</th>\n",
       "      <th>Machine Learning (out of 3)</th>\n",
       "      <th>Natural Language Processing (NLP) (out of 3)</th>\n",
       "      <th>Deep Learning (out of 3)</th>\n",
       "      <th>Other skills</th>\n",
       "      <th>Are you available for 3 months, starting immediately, for a full-time work from home internship?</th>\n",
       "      <th>Degree</th>\n",
       "      <th>Stream</th>\n",
       "      <th>Current Year Of Graduation</th>\n",
       "      <th>Performance_PG</th>\n",
       "      <th>Performance_UG</th>\n",
       "      <th>Performance_12</th>\n",
       "      <th>Performance_10</th>\n",
       "    </tr>\n",
       "  </thead>\n",
       "  <tbody>\n",
       "    <tr>\n",
       "      <th>0</th>\n",
       "      <td>NaN</td>\n",
       "      <td>1</td>\n",
       "      <td>0</td>\n",
       "      <td>0</td>\n",
       "      <td>1</td>\n",
       "      <td>MS-Excel, MS-Word, Deep Learning, MySQL, Pytho...</td>\n",
       "      <td>Yes, I am available for 3 months starting imme...</td>\n",
       "      <td>Bachelor of Vocation (B.Voc.)</td>\n",
       "      <td>Software Engineering</td>\n",
       "      <td>2021</td>\n",
       "      <td>NaN</td>\n",
       "      <td>6.50/7</td>\n",
       "      <td>NaN</td>\n",
       "      <td>NaN</td>\n",
       "    </tr>\n",
       "    <tr>\n",
       "      <th>1</th>\n",
       "      <td>NaN</td>\n",
       "      <td>2</td>\n",
       "      <td>0</td>\n",
       "      <td>0</td>\n",
       "      <td>0</td>\n",
       "      <td>Git, GitHub, Linux, Adobe After Effects, Adobe...</td>\n",
       "      <td>Yes, I am available for 3 months starting imme...</td>\n",
       "      <td>B.Tech</td>\n",
       "      <td>Computer Science &amp; Engineering</td>\n",
       "      <td>2024</td>\n",
       "      <td>NaN</td>\n",
       "      <td>8.90/10</td>\n",
       "      <td>NaN</td>\n",
       "      <td>NaN</td>\n",
       "    </tr>\n",
       "  </tbody>\n",
       "</table>\n",
       "</div>"
      ],
      "text/plain": [
       "   Name  Python (out of 3)  Machine Learning (out of 3)  \\\n",
       "0   NaN                  1                            0   \n",
       "1   NaN                  2                            0   \n",
       "\n",
       "   Natural Language Processing (NLP) (out of 3)  Deep Learning (out of 3)  \\\n",
       "0                                             0                         1   \n",
       "1                                             0                         0   \n",
       "\n",
       "                                        Other skills  \\\n",
       "0  MS-Excel, MS-Word, Deep Learning, MySQL, Pytho...   \n",
       "1  Git, GitHub, Linux, Adobe After Effects, Adobe...   \n",
       "\n",
       "  Are you available for 3 months, starting immediately, for a full-time work from home internship?   \\\n",
       "0  Yes, I am available for 3 months starting imme...                                                  \n",
       "1  Yes, I am available for 3 months starting imme...                                                  \n",
       "\n",
       "                          Degree                          Stream  \\\n",
       "0  Bachelor of Vocation (B.Voc.)            Software Engineering   \n",
       "1                         B.Tech  Computer Science & Engineering   \n",
       "\n",
       "   Current Year Of Graduation Performance_PG Performance_UG Performance_12  \\\n",
       "0                        2021            NaN         6.50/7            NaN   \n",
       "1                        2024            NaN        8.90/10            NaN   \n",
       "\n",
       "  Performance_10  \n",
       "0            NaN  \n",
       "1            NaN  "
      ]
     },
     "execution_count": 2,
     "metadata": {},
     "output_type": "execute_result"
    }
   ],
   "source": [
    "df=pd.read_excel('Applications_for_Machine_Learning_internship_edited.xlsx')\n",
    "df.head(2)\n"
   ]
  },
  {
   "cell_type": "code",
   "execution_count": 3,
   "metadata": {},
   "outputs": [],
   "source": [
    "df1=df.copy()\n",
    "df1['Other skills']=df['Other skills'].astype(str)"
   ]
  },
  {
   "cell_type": "code",
   "execution_count": 4,
   "metadata": {},
   "outputs": [],
   "source": [
    "df2=df1.copy()"
   ]
  },
  {
   "cell_type": "code",
   "execution_count": 5,
   "metadata": {},
   "outputs": [],
   "source": [
    "#--------------FILTER THE DESIRED SKILLS FROM OTHER SKILLS COLUMN ----------------------------------------"
   ]
  },
  {
   "cell_type": "code",
   "execution_count": 6,
   "metadata": {},
   "outputs": [],
   "source": [
    "filtered_rows = []\n",
    "desired_skills = ['Python', 'MS-Excel', 'MS-Word']\n",
    "\n",
    "for index, row in df2.iterrows():\n",
    "    skills_list = row['Other skills'].split(', ')\n",
    "    if all(skill in skills_list for skill in desired_skills):\n",
    "        filtered_rows.append(row)\n",
    "\n",
    "df4 = pd.DataFrame(filtered_rows)"
   ]
  },
  {
   "cell_type": "code",
   "execution_count": 7,
   "metadata": {},
   "outputs": [
    {
     "data": {
      "text/html": [
       "<div>\n",
       "<style scoped>\n",
       "    .dataframe tbody tr th:only-of-type {\n",
       "        vertical-align: middle;\n",
       "    }\n",
       "\n",
       "    .dataframe tbody tr th {\n",
       "        vertical-align: top;\n",
       "    }\n",
       "\n",
       "    .dataframe thead th {\n",
       "        text-align: right;\n",
       "    }\n",
       "</style>\n",
       "<table border=\"1\" class=\"dataframe\">\n",
       "  <thead>\n",
       "    <tr style=\"text-align: right;\">\n",
       "      <th></th>\n",
       "      <th>Name</th>\n",
       "      <th>Python (out of 3)</th>\n",
       "      <th>Machine Learning (out of 3)</th>\n",
       "      <th>Natural Language Processing (NLP) (out of 3)</th>\n",
       "      <th>Deep Learning (out of 3)</th>\n",
       "      <th>Other skills</th>\n",
       "      <th>Are you available for 3 months, starting immediately, for a full-time work from home internship?</th>\n",
       "      <th>Degree</th>\n",
       "      <th>Stream</th>\n",
       "      <th>Current Year Of Graduation</th>\n",
       "      <th>Performance_PG</th>\n",
       "      <th>Performance_UG</th>\n",
       "      <th>Performance_12</th>\n",
       "      <th>Performance_10</th>\n",
       "    </tr>\n",
       "  </thead>\n",
       "  <tbody>\n",
       "    <tr>\n",
       "      <th>0</th>\n",
       "      <td>NaN</td>\n",
       "      <td>1</td>\n",
       "      <td>0</td>\n",
       "      <td>0</td>\n",
       "      <td>1</td>\n",
       "      <td>MS-Excel, MS-Word, Deep Learning, MySQL, Pytho...</td>\n",
       "      <td>Yes, I am available for 3 months starting imme...</td>\n",
       "      <td>Bachelor of Vocation (B.Voc.)</td>\n",
       "      <td>Software Engineering</td>\n",
       "      <td>2021</td>\n",
       "      <td>NaN</td>\n",
       "      <td>6.50/7</td>\n",
       "      <td>NaN</td>\n",
       "      <td>NaN</td>\n",
       "    </tr>\n",
       "  </tbody>\n",
       "</table>\n",
       "</div>"
      ],
      "text/plain": [
       "   Name  Python (out of 3)  Machine Learning (out of 3)  \\\n",
       "0   NaN                  1                            0   \n",
       "\n",
       "   Natural Language Processing (NLP) (out of 3)  Deep Learning (out of 3)  \\\n",
       "0                                             0                         1   \n",
       "\n",
       "                                        Other skills  \\\n",
       "0  MS-Excel, MS-Word, Deep Learning, MySQL, Pytho...   \n",
       "\n",
       "  Are you available for 3 months, starting immediately, for a full-time work from home internship?   \\\n",
       "0  Yes, I am available for 3 months starting imme...                                                  \n",
       "\n",
       "                          Degree                Stream  \\\n",
       "0  Bachelor of Vocation (B.Voc.)  Software Engineering   \n",
       "\n",
       "   Current Year Of Graduation Performance_PG Performance_UG Performance_12  \\\n",
       "0                        2021            NaN         6.50/7            NaN   \n",
       "\n",
       "  Performance_10  \n",
       "0            NaN  "
      ]
     },
     "execution_count": 7,
     "metadata": {},
     "output_type": "execute_result"
    }
   ],
   "source": [
    "df4.head(1)"
   ]
  },
  {
   "cell_type": "code",
   "execution_count": 8,
   "metadata": {},
   "outputs": [
    {
     "data": {
      "text/plain": [
       "(79, 14)"
      ]
     },
     "execution_count": 8,
     "metadata": {},
     "output_type": "execute_result"
    }
   ],
   "source": [
    "df4.shape"
   ]
  },
  {
   "cell_type": "code",
   "execution_count": 9,
   "metadata": {},
   "outputs": [],
   "source": [
    "#===============================                 RENAMING SOME COLUMNS                =============================================\n",
    "df4.rename(columns={'Python (out of 3)': 'pythonmarks'}, inplace=True)\n",
    "df4.rename(columns={'Machine Learning (out of 3)': 'MLmarks'}, inplace=True)\n",
    "df4.rename(columns={'Natural Language Processing (NLP) (out of 3)': 'NLPmarks'}, inplace=True)\n",
    "df4.rename(columns={'Deep Learning (out of 3)': 'DPmarks'}, inplace=True)\n"
   ]
  },
  {
   "cell_type": "code",
   "execution_count": 10,
   "metadata": {},
   "outputs": [
    {
     "data": {
      "text/html": [
       "<div>\n",
       "<style scoped>\n",
       "    .dataframe tbody tr th:only-of-type {\n",
       "        vertical-align: middle;\n",
       "    }\n",
       "\n",
       "    .dataframe tbody tr th {\n",
       "        vertical-align: top;\n",
       "    }\n",
       "\n",
       "    .dataframe thead th {\n",
       "        text-align: right;\n",
       "    }\n",
       "</style>\n",
       "<table border=\"1\" class=\"dataframe\">\n",
       "  <thead>\n",
       "    <tr style=\"text-align: right;\">\n",
       "      <th></th>\n",
       "      <th>Name</th>\n",
       "      <th>pythonmarks</th>\n",
       "      <th>MLmarks</th>\n",
       "      <th>NLPmarks</th>\n",
       "      <th>DPmarks</th>\n",
       "      <th>Other skills</th>\n",
       "      <th>Are you available for 3 months, starting immediately, for a full-time work from home internship?</th>\n",
       "      <th>Degree</th>\n",
       "      <th>Stream</th>\n",
       "      <th>Current Year Of Graduation</th>\n",
       "      <th>Performance_PG</th>\n",
       "      <th>Performance_UG</th>\n",
       "      <th>Performance_12</th>\n",
       "      <th>Performance_10</th>\n",
       "    </tr>\n",
       "  </thead>\n",
       "  <tbody>\n",
       "    <tr>\n",
       "      <th>0</th>\n",
       "      <td>NaN</td>\n",
       "      <td>1</td>\n",
       "      <td>0</td>\n",
       "      <td>0</td>\n",
       "      <td>1</td>\n",
       "      <td>MS-Excel, MS-Word, Deep Learning, MySQL, Pytho...</td>\n",
       "      <td>Yes, I am available for 3 months starting imme...</td>\n",
       "      <td>Bachelor of Vocation (B.Voc.)</td>\n",
       "      <td>Software Engineering</td>\n",
       "      <td>2021</td>\n",
       "      <td>NaN</td>\n",
       "      <td>6.50/7</td>\n",
       "      <td>NaN</td>\n",
       "      <td>NaN</td>\n",
       "    </tr>\n",
       "  </tbody>\n",
       "</table>\n",
       "</div>"
      ],
      "text/plain": [
       "   Name  pythonmarks  MLmarks  NLPmarks  DPmarks  \\\n",
       "0   NaN            1        0         0        1   \n",
       "\n",
       "                                        Other skills  \\\n",
       "0  MS-Excel, MS-Word, Deep Learning, MySQL, Pytho...   \n",
       "\n",
       "  Are you available for 3 months, starting immediately, for a full-time work from home internship?   \\\n",
       "0  Yes, I am available for 3 months starting imme...                                                  \n",
       "\n",
       "                          Degree                Stream  \\\n",
       "0  Bachelor of Vocation (B.Voc.)  Software Engineering   \n",
       "\n",
       "   Current Year Of Graduation Performance_PG Performance_UG Performance_12  \\\n",
       "0                        2021            NaN         6.50/7            NaN   \n",
       "\n",
       "  Performance_10  \n",
       "0            NaN  "
      ]
     },
     "execution_count": 10,
     "metadata": {},
     "output_type": "execute_result"
    }
   ],
   "source": [
    "df4.head(1)"
   ]
  },
  {
   "cell_type": "code",
   "execution_count": 11,
   "metadata": {},
   "outputs": [],
   "source": [
    "df5=df4.copy()"
   ]
  },
  {
   "cell_type": "code",
   "execution_count": 12,
   "metadata": {},
   "outputs": [],
   "source": [
    "#===================            DROP THE STUDENTS WHICH DO NOT HAVE GOOD KNOWLEDGE IN PYTHON AND ML            =======================================\n",
    "df6 = df5.drop(df5[df5['pythonmarks'] == 1].index)\n",
    "df6 = df5.drop(df5[df5['MLmarks'] == 0].index)\n",
    "\n"
   ]
  },
  {
   "cell_type": "code",
   "execution_count": 13,
   "metadata": {},
   "outputs": [
    {
     "data": {
      "text/plain": [
       "(59, 14)"
      ]
     },
     "execution_count": 13,
     "metadata": {},
     "output_type": "execute_result"
    }
   ],
   "source": [
    "df7=df6.copy()\n",
    "df7.shape"
   ]
  },
  {
   "cell_type": "code",
   "execution_count": 14,
   "metadata": {},
   "outputs": [],
   "source": [
    "#==============================                  DROP STUDENTS WHICH ARE CURRENTLY NOT AVAILABLE      ==================================================="
   ]
  },
  {
   "cell_type": "code",
   "execution_count": 15,
   "metadata": {},
   "outputs": [
    {
     "name": "stderr",
     "output_type": "stream",
     "text": [
      "C:\\Users\\A2ZCON~1\\AppData\\Local\\Temp/ipykernel_5028/347328872.py:1: UserWarning: Boolean Series key will be reindexed to match DataFrame index.\n",
      "  df8 = df7[~df.apply(lambda row: row.astype(str).str.contains('No, ').any(), axis=1)]\n"
     ]
    }
   ],
   "source": [
    "df8 = df7[~df.apply(lambda row: row.astype(str).str.contains('No, ').any(), axis=1)]"
   ]
  },
  {
   "cell_type": "code",
   "execution_count": 16,
   "metadata": {},
   "outputs": [
    {
     "data": {
      "text/plain": [
       "(56, 14)"
      ]
     },
     "execution_count": 16,
     "metadata": {},
     "output_type": "execute_result"
    }
   ],
   "source": [
    "df8.shape"
   ]
  },
  {
   "cell_type": "code",
   "execution_count": 17,
   "metadata": {},
   "outputs": [],
   "source": [
    "#===========================            CHECKING THE PERFORMANCE IN UG AND PG                   ================================================="
   ]
  },
  {
   "cell_type": "code",
   "execution_count": 18,
   "metadata": {},
   "outputs": [
    {
     "data": {
      "text/plain": [
       "array(['9.80/10', nan, '8.00/10', '8.90/10', '9.00/9', '6.09/10',\n",
       "       '4.88/10', '75.70/100', '8.10/10', '83.73/100', '85.50/100',\n",
       "       '6.60/10', '9.00/10', '80.00/100', '79.80/100', '9.60/10',\n",
       "       '3.60/4', '8.59/10', '7.23/10', '8.64/10', '8.09/10', '8.60/10',\n",
       "       '9.20/10', '8.45/10', '65.00/100', '7.83/10', '8.11/10', '8.00/8',\n",
       "       '8.28/10'], dtype=object)"
      ]
     },
     "execution_count": 18,
     "metadata": {},
     "output_type": "execute_result"
    }
   ],
   "source": [
    "df8.Performance_UG.unique()\n",
    "\n",
    "\n",
    "#NOBODY HAS LESS PERCINTILE SO NEED TO REMOVE  "
   ]
  },
  {
   "cell_type": "code",
   "execution_count": 19,
   "metadata": {},
   "outputs": [
    {
     "data": {
      "text/plain": [
       "array([nan, '7.10/10', '88.50/100', '8.16/10', '86.00/100', '7.52/10',\n",
       "       '8.72/10', '50.06/100', '8.22/10', '8.30/10', '8.25/10',\n",
       "       '87.00/100', '85.00/100', '8.00/10'], dtype=object)"
      ]
     },
     "execution_count": 19,
     "metadata": {},
     "output_type": "execute_result"
    }
   ],
   "source": [
    "df8.Performance_PG.unique()\n",
    "\n",
    "\n",
    "# NOBODY HAS LESS PERCINTILE SO NEED TO REMOVE  "
   ]
  },
  {
   "cell_type": "code",
   "execution_count": 20,
   "metadata": {},
   "outputs": [
    {
     "data": {
      "text/plain": [
       "Name                                                                                                 56\n",
       "pythonmarks                                                                                           0\n",
       "MLmarks                                                                                               0\n",
       "NLPmarks                                                                                              0\n",
       "DPmarks                                                                                               0\n",
       "Other skills                                                                                          0\n",
       "Are you available for 3 months, starting immediately, for a full-time work from home internship?      0\n",
       "Degree                                                                                                4\n",
       "Stream                                                                                                6\n",
       "Current Year Of Graduation                                                                            0\n",
       "Performance_PG                                                                                       43\n",
       "Performance_UG                                                                                       25\n",
       "Performance_12                                                                                       26\n",
       "Performance_10                                                                                       29\n",
       "dtype: int64"
      ]
     },
     "execution_count": 20,
     "metadata": {},
     "output_type": "execute_result"
    }
   ],
   "source": [
    "df8.isnull().sum()"
   ]
  },
  {
   "cell_type": "code",
   "execution_count": 21,
   "metadata": {},
   "outputs": [],
   "source": [
    "#==================                            DROP THE STUDENTS WITH NULL DEGREE                   =====================================               "
   ]
  },
  {
   "cell_type": "code",
   "execution_count": 22,
   "metadata": {},
   "outputs": [
    {
     "name": "stderr",
     "output_type": "stream",
     "text": [
      "C:\\Users\\A2ZCON~1\\AppData\\Local\\Temp/ipykernel_5028/2813967617.py:1: SettingWithCopyWarning: \n",
      "A value is trying to be set on a copy of a slice from a DataFrame\n",
      "\n",
      "See the caveats in the documentation: https://pandas.pydata.org/pandas-docs/stable/user_guide/indexing.html#returning-a-view-versus-a-copy\n",
      "  df8.dropna(subset=['Degree'], inplace=True)\n"
     ]
    }
   ],
   "source": [
    "df8.dropna(subset=['Degree'], inplace=True)"
   ]
  },
  {
   "cell_type": "code",
   "execution_count": 23,
   "metadata": {},
   "outputs": [
    {
     "data": {
      "text/plain": [
       "(52, 14)"
      ]
     },
     "execution_count": 23,
     "metadata": {},
     "output_type": "execute_result"
    }
   ],
   "source": [
    "df9=df8.copy()\n",
    "df9.shape"
   ]
  },
  {
   "cell_type": "code",
   "execution_count": 24,
   "metadata": {},
   "outputs": [
    {
     "data": {
      "text/plain": [
       "(1136, 14)"
      ]
     },
     "execution_count": 24,
     "metadata": {},
     "output_type": "execute_result"
    }
   ],
   "source": [
    "df.shape"
   ]
  },
  {
   "cell_type": "code",
   "execution_count": null,
   "metadata": {},
   "outputs": [],
   "source": [
    "#    SO OUT OF 1136 STUDENTS 52 STUDENTS HAVE PASSED THROUGH RESUME   ==============="
   ]
  },
  {
   "cell_type": "code",
   "execution_count": 26,
   "metadata": {},
   "outputs": [
    {
     "data": {
      "text/html": [
       "<div>\n",
       "<style scoped>\n",
       "    .dataframe tbody tr th:only-of-type {\n",
       "        vertical-align: middle;\n",
       "    }\n",
       "\n",
       "    .dataframe tbody tr th {\n",
       "        vertical-align: top;\n",
       "    }\n",
       "\n",
       "    .dataframe thead th {\n",
       "        text-align: right;\n",
       "    }\n",
       "</style>\n",
       "<table border=\"1\" class=\"dataframe\">\n",
       "  <thead>\n",
       "    <tr style=\"text-align: right;\">\n",
       "      <th></th>\n",
       "      <th>Name</th>\n",
       "      <th>pythonmarks</th>\n",
       "      <th>MLmarks</th>\n",
       "      <th>NLPmarks</th>\n",
       "      <th>DPmarks</th>\n",
       "      <th>Other skills</th>\n",
       "      <th>Are you available for 3 months, starting immediately, for a full-time work from home internship?</th>\n",
       "      <th>Degree</th>\n",
       "      <th>Stream</th>\n",
       "      <th>Current Year Of Graduation</th>\n",
       "      <th>Performance_PG</th>\n",
       "      <th>Performance_UG</th>\n",
       "      <th>Performance_12</th>\n",
       "      <th>Performance_10</th>\n",
       "    </tr>\n",
       "  </thead>\n",
       "  <tbody>\n",
       "    <tr>\n",
       "      <th>15</th>\n",
       "      <td>NaN</td>\n",
       "      <td>2</td>\n",
       "      <td>2</td>\n",
       "      <td>1</td>\n",
       "      <td>2</td>\n",
       "      <td>Database Management System (DBMS), English Pro...</td>\n",
       "      <td>Yes, I am available for 3 months starting imme...</td>\n",
       "      <td>Bachelor of Technology (B.Tech)</td>\n",
       "      <td>Computer Science &amp; Engineering</td>\n",
       "      <td>2024</td>\n",
       "      <td>NaN</td>\n",
       "      <td>9.80/10</td>\n",
       "      <td>NaN</td>\n",
       "      <td>NaN</td>\n",
       "    </tr>\n",
       "    <tr>\n",
       "      <th>75</th>\n",
       "      <td>NaN</td>\n",
       "      <td>2</td>\n",
       "      <td>1</td>\n",
       "      <td>1</td>\n",
       "      <td>1</td>\n",
       "      <td>Content Writing, English Proficiency (Written)...</td>\n",
       "      <td>Yes, I am available for 3 months starting imme...</td>\n",
       "      <td>Bachelor of Technology (B.Tech)</td>\n",
       "      <td>Computer Science &amp; Engineering</td>\n",
       "      <td>2023</td>\n",
       "      <td>NaN</td>\n",
       "      <td>NaN</td>\n",
       "      <td>NaN</td>\n",
       "      <td>NaN</td>\n",
       "    </tr>\n",
       "  </tbody>\n",
       "</table>\n",
       "</div>"
      ],
      "text/plain": [
       "    Name  pythonmarks  MLmarks  NLPmarks  DPmarks  \\\n",
       "15   NaN            2        2         1        2   \n",
       "75   NaN            2        1         1        1   \n",
       "\n",
       "                                         Other skills  \\\n",
       "15  Database Management System (DBMS), English Pro...   \n",
       "75  Content Writing, English Proficiency (Written)...   \n",
       "\n",
       "   Are you available for 3 months, starting immediately, for a full-time work from home internship?   \\\n",
       "15  Yes, I am available for 3 months starting imme...                                                  \n",
       "75  Yes, I am available for 3 months starting imme...                                                  \n",
       "\n",
       "                             Degree                          Stream  \\\n",
       "15  Bachelor of Technology (B.Tech)  Computer Science & Engineering   \n",
       "75  Bachelor of Technology (B.Tech)  Computer Science & Engineering   \n",
       "\n",
       "    Current Year Of Graduation Performance_PG Performance_UG Performance_12  \\\n",
       "15                        2024            NaN        9.80/10            NaN   \n",
       "75                        2023            NaN            NaN            NaN   \n",
       "\n",
       "   Performance_10  \n",
       "15            NaN  \n",
       "75            NaN  "
      ]
     },
     "execution_count": 26,
     "metadata": {},
     "output_type": "execute_result"
    }
   ],
   "source": [
    "results=df9.copy()\n",
    "results.head(2)"
   ]
  }
 ],
 "metadata": {
  "kernelspec": {
   "display_name": "Python 3",
   "language": "python",
   "name": "python3"
  },
  "language_info": {
   "codemirror_mode": {
    "name": "ipython",
    "version": 3
   },
   "file_extension": ".py",
   "mimetype": "text/x-python",
   "name": "python",
   "nbconvert_exporter": "python",
   "pygments_lexer": "ipython3",
   "version": "3.10.0"
  },
  "orig_nbformat": 4
 },
 "nbformat": 4,
 "nbformat_minor": 2
}
